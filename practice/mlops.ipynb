{
 "cells": [
  {
   "cell_type": "code",
   "execution_count": null,
   "id": "41ad295c",
   "metadata": {},
   "outputs": [],
   "source": [
    "# Introduction to MLOOS and Its Importance. \n",
    "\n",
    "# Machine Learning Lifecycle \n",
    "# Problem Definition \n",
    "# Data Gathering \n",
    "# Data Preprocessing \n",
    "# EDA \n",
    "# Feature Engineering \n",
    "# Model Building \n",
    "# Model Evaluation \n",
    "# Deployment \n",
    "\n",
    "\n",
    "\n",
    "# Traditional Code Implementation Problem \n",
    "# Difficulty in Maintainance \n",
    "# Limited Reusability \n",
    "# Harder Collaboration \n",
    "# Poor Scalability \n",
    "# Testing Challanges\n",
    "\n",
    "# We need modular Coding for the same \n",
    "# OOP Lectures \n",
    "\n",
    "\n",
    "\n",
    "# Challanges in MLOPS \n",
    "# Complexity of ML Models \n",
    "# Quality of the Data \n",
    "# Cost and resource Constraints \n",
    "# Handlking Scale \n",
    "# Compilaince and regularatory Skills \n",
    "# Integraqtion With existing Systems \n",
    "# Limited Expertise and Skill gap.\n",
    "\n",
    "\n",
    "# Linux Operating System \n",
    "# Linux is more prefrable in the Deployment \n",
    "# Knowing Linux Commands are necessary for betterment of the work.\n",
    "# We will discuss some of the most used command in the MLOPS.\n",
    "# WSL - Windows Subsystem for the Linux \n",
    "\n",
    "# Required Commands for the Linux Fundamentals \n",
    "# sudo apt update \n",
    "# sudo apt-get update -y \n",
    "# ls - list all the directory \n",
    "# ls -al => all the hidden files and folders \n",
    "# clear - to clear all the commands ``\n",
    "# mkdir test\n",
    "# cd - change directory \n",
    "# cd .. => to go back\n",
    "# rmdir => to delete the directory \n",
    "# pwd \n",
    "# touch puppy.\n",
    "\n",
    "\n",
    "\n",
    "\n",
    "\n"
   ]
  },
  {
   "cell_type": "code",
   "execution_count": null,
   "id": "f413fcde",
   "metadata": {},
   "outputs": [],
   "source": []
  },
  {
   "cell_type": "code",
   "execution_count": null,
   "id": "54432714",
   "metadata": {},
   "outputs": [],
   "source": []
  },
  {
   "cell_type": "code",
   "execution_count": null,
   "id": "af98ba34",
   "metadata": {},
   "outputs": [],
   "source": []
  },
  {
   "cell_type": "code",
   "execution_count": null,
   "id": "ef0ee1b8",
   "metadata": {},
   "outputs": [],
   "source": []
  },
  {
   "cell_type": "code",
   "execution_count": null,
   "id": "9123830e",
   "metadata": {},
   "outputs": [],
   "source": []
  }
 ],
 "metadata": {
  "kernelspec": {
   "display_name": "Python 3",
   "language": "python",
   "name": "python3"
  },
  "language_info": {
   "codemirror_mode": {
    "name": "ipython",
    "version": 3
   },
   "file_extension": ".py",
   "mimetype": "text/x-python",
   "name": "python",
   "nbconvert_exporter": "python",
   "pygments_lexer": "ipython3",
   "version": "3.10.0"
  }
 },
 "nbformat": 4,
 "nbformat_minor": 5
}
